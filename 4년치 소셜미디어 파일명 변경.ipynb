{
 "cells": [
  {
   "cell_type": "code",
   "execution_count": 1,
   "id": "a615fff9",
   "metadata": {},
   "outputs": [],
   "source": [
    "import os\n",
    "\n",
    "# 변경할 폴더 경로\n",
    "folder_path = \"./4년치 강원도 소셜미디어 관련 데이터\"\n",
    "\n",
    "# 폴더 내의 파일 목록을 가져옴\n",
    "file_list = os.listdir(folder_path)"
   ]
  },
  {
   "cell_type": "code",
   "execution_count": 2,
   "id": "97230459",
   "metadata": {},
   "outputs": [
    {
     "data": {
      "text/plain": [
       "['20230614195712_강릉시_202201-202212_데이터랩_다운로드',\n",
       " '20230614195719_고성군_202201-202212_데이터랩_다운로드',\n",
       " '20230614195727_동해시_202201-202212_데이터랩_다운로드',\n",
       " '20230614195732_삼척시_202201-202212_데이터랩_다운로드',\n",
       " '20230614195739_속초시_202201-202212_데이터랩_다운로드',\n",
       " '20230614195746_양구군_202201-202212_데이터랩_다운로드',\n",
       " '20230614195754_양양군_202201-202212_데이터랩_다운로드',\n",
       " '20230614195801_영월군_202201-202212_데이터랩_다운로드',\n",
       " '20230614195809_원주시_202201-202212_데이터랩_다운로드',\n",
       " '20230614195816_인제군_202201-202212_데이터랩_다운로드',\n",
       " '20230614195824_정선군_202201-202212_데이터랩_다운로드',\n",
       " '20230614195831_철원군_202201-202212_데이터랩_다운로드',\n",
       " '20230614195839_춘천시_202201-202212_데이터랩_다운로드',\n",
       " '20230614195846_태백시_202201-202212_데이터랩_다운로드',\n",
       " '20230614195856_평창군_202201-202212_데이터랩_다운로드',\n",
       " '20230614195904_홍천군_202201-202212_데이터랩_다운로드',\n",
       " '20230614195910_화천군_202201-202212_데이터랩_다운로드',\n",
       " '20230614195920_횡성군_202201-202212_데이터랩_다운로드']"
      ]
     },
     "execution_count": 2,
     "metadata": {},
     "output_type": "execute_result"
    }
   ],
   "source": [
    "file_list"
   ]
  },
  {
   "cell_type": "code",
   "execution_count": 3,
   "id": "88c60758",
   "metadata": {},
   "outputs": [
    {
     "name": "stdout",
     "output_type": "stream",
     "text": [
      "강릉시\n",
      "고성군\n",
      "동해시\n",
      "삼척시\n",
      "속초시\n",
      "양구군\n",
      "양양군\n",
      "영월군\n",
      "원주시\n",
      "인제군\n",
      "정선군\n",
      "철원군\n",
      "춘천시\n",
      "태백시\n",
      "평창군\n",
      "홍천군\n",
      "화천군\n",
      "횡성군\n"
     ]
    }
   ],
   "source": [
    "for i in range(len(file_list)):\n",
    "    print(file_list[i][15: 18])"
   ]
  },
  {
   "cell_type": "code",
   "execution_count": 4,
   "id": "b8876b78",
   "metadata": {},
   "outputs": [],
   "source": [
    "# 변경하고 싶은 이름을 리스트로 만들기 \n",
    "\n",
    "# sns언급량이 들어있는 파일만 따로 리스트로 만들기\n",
    "fold_name0 = []\n",
    "for i in range(len(file_list)):\n",
    "    fold_name0.append(file_list[0][19:23]+file_list[i][15: 18]+\"sns언급량\")\n",
    "\n",
    "# 동반유형언급량이 들어있는 파일만 따로 리스트로 만들기\n",
    "fold_name1 = []\n",
    "for i in range(len(file_list)):\n",
    "    fold_name1.append(file_list[0][19:23]+file_list[i][15: 18]+\"동반유형언급량\")\n",
    "\n",
    "\n",
    "fold_name2 = []\n",
    "for i in range(len(file_list)):\n",
    "    fold_name2.append(file_list[0][19:23]+file_list[i][15: 18]+\"동반유형키워드\")\n",
    "\n",
    "\n",
    "fold_name3 = []\n",
    "for i in range(len(file_list)):\n",
    "    fold_name3.append(file_list[0][19:23]+file_list[i][15: 18]+\"여행유형트랜드언급량\")\n",
    "\n",
    "fold_name4 = []\n",
    "for i in range(len(file_list)):\n",
    "    fold_name4.append(file_list[0][19:23]+file_list[i][15: 18]+\"여행유형트랜드키워드\")"
   ]
  },
  {
   "cell_type": "code",
   "execution_count": 5,
   "id": "7a202b75",
   "metadata": {},
   "outputs": [],
   "source": [
    "name_1 = []\n",
    "for i in range(18):\n",
    "    name_1.append([fold_name0[i],fold_name1[i],fold_name2[i] , fold_name3[i] , fold_name4[i]])"
   ]
  },
  {
   "cell_type": "code",
   "execution_count": 7,
   "id": "9eb26bd6",
   "metadata": {},
   "outputs": [],
   "source": [
    "for i in range(len(file_list)):\n",
    "    for p in range(5):\n",
    "        new_file_name = \"./4년치 강원도 소셜미디어 관련 데이터/\" + file_list[i] \n",
    "        # 기존 파일명\n",
    "        a = \"./4년치 강원도 소셜미디어 관련 데이터/\" + file_list[i] +\"/\"+ os.listdir(new_file_name)[p]\n",
    "        # 바꿀 파일명 위치 저장\n",
    "        b = new_file_name + \"/\" + name_1[i][p] + \".csv\"\n",
    "        os.rename(a,b)"
   ]
  },
  {
   "cell_type": "code",
   "execution_count": null,
   "id": "ddd41c08",
   "metadata": {},
   "outputs": [],
   "source": []
  },
  {
   "cell_type": "code",
   "execution_count": null,
   "id": "dbe4cb4a",
   "metadata": {},
   "outputs": [],
   "source": []
  },
  {
   "cell_type": "code",
   "execution_count": null,
   "id": "a0fd76b1",
   "metadata": {},
   "outputs": [],
   "source": []
  },
  {
   "cell_type": "code",
   "execution_count": null,
   "id": "7460ed13",
   "metadata": {},
   "outputs": [],
   "source": []
  },
  {
   "cell_type": "code",
   "execution_count": null,
   "id": "6fc67728",
   "metadata": {},
   "outputs": [],
   "source": []
  }
 ],
 "metadata": {
  "kernelspec": {
   "display_name": "busan_env_kernel",
   "language": "python",
   "name": "busan_env"
  },
  "language_info": {
   "codemirror_mode": {
    "name": "ipython",
    "version": 3
   },
   "file_extension": ".py",
   "mimetype": "text/x-python",
   "name": "python",
   "nbconvert_exporter": "python",
   "pygments_lexer": "ipython3",
   "version": "3.9.16"
  }
 },
 "nbformat": 4,
 "nbformat_minor": 5
}
