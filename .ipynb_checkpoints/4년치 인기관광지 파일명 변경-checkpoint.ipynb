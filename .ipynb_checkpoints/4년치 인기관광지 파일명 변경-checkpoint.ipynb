{
 "cells": [
  {
   "cell_type": "code",
   "execution_count": 1,
   "id": "a615fff9",
   "metadata": {},
   "outputs": [],
   "source": [
    "import os\n",
    "\n",
    "# 변경할 폴더 경로\n",
    "folder_path = \"./4년치 강원도 인기 관광지 관련 데이터\"\n",
    "\n",
    "# 폴더 내의 파일 목록을 가져옴\n",
    "file_list = os.listdir(folder_path)"
   ]
  },
  {
   "cell_type": "code",
   "execution_count": 2,
   "id": "97230459",
   "metadata": {},
   "outputs": [
    {
     "data": {
      "text/plain": [
       "['20230615083918_강릉시_201901-201912_데이터랩_다운로드',\n",
       " '20230615083935_고성군_201901-201912_데이터랩_다운로드',\n",
       " '20230615083949_동해시_201901-201912_데이터랩_다운로드',\n",
       " '20230615084011_삼척시_201901-201912_데이터랩_다운로드',\n",
       " '20230615084033_속초시_201901-201912_데이터랩_다운로드',\n",
       " '20230615084048_양구군_201901-201912_데이터랩_다운로드',\n",
       " '20230615084103_양양군_201901-201912_데이터랩_다운로드',\n",
       " '20230615084116_영월군_201901-201912_데이터랩_다운로드',\n",
       " '20230615084130_원주시_201901-201912_데이터랩_다운로드',\n",
       " '20230615084148_인제군_201901-201912_데이터랩_다운로드',\n",
       " '20230615084337_정선군_201901-201912_데이터랩_다운로드',\n",
       " '20230615084352_철원군_201901-201912_데이터랩_다운로드',\n",
       " '20230615084407_춘천시_201901-201912_데이터랩_다운로드',\n",
       " '20230615084503_태백시_201901-201912_데이터랩_다운로드',\n",
       " '20230615084522_평창군_201901-201912_데이터랩_다운로드',\n",
       " '20230615084553_홍천군_201901-201912_데이터랩_다운로드',\n",
       " '20230615084606_화천군_201901-201912_데이터랩_다운로드',\n",
       " '20230615084622_횡성군_201901-201912_데이터랩_다운로드']"
      ]
     },
     "execution_count": 2,
     "metadata": {},
     "output_type": "execute_result"
    }
   ],
   "source": [
    "file_list"
   ]
  },
  {
   "cell_type": "code",
   "execution_count": 3,
   "id": "88c60758",
   "metadata": {},
   "outputs": [
    {
     "name": "stdout",
     "output_type": "stream",
     "text": [
      "강릉시\n",
      "고성군\n",
      "동해시\n",
      "삼척시\n",
      "속초시\n",
      "양구군\n",
      "양양군\n",
      "영월군\n",
      "원주시\n",
      "인제군\n",
      "정선군\n",
      "철원군\n",
      "춘천시\n",
      "태백시\n",
      "평창군\n",
      "홍천군\n",
      "화천군\n",
      "횡성군\n"
     ]
    }
   ],
   "source": [
    "for i in range(len(file_list)):\n",
    "    print(file_list[i][15: 18])"
   ]
  },
  {
   "cell_type": "code",
   "execution_count": 4,
   "id": "b8876b78",
   "metadata": {},
   "outputs": [],
   "source": [
    "# 변경하고 싶은 이름을 폴더 내에 있는 폴더명을 불러온뒤 내가 원하는 이름으로 바꿈\n",
    "fold_name0 = []\n",
    "for i in range(len(file_list)):\n",
    "    fold_name0.append(file_list[0][19:23]+file_list[i][15: 18]+\"내국인 관심 관광지\")\n",
    "    \n",
    "fold_name1 = []\n",
    "for i in range(len(file_list)):\n",
    "    fold_name1.append(file_list[0][19:23]+file_list[i][15: 18]+\"인기 관광지 전체\")\n",
    "\n",
    "\n",
    "fold_name2 = []\n",
    "for i in range(len(file_list)):\n",
    "    fold_name2.append(file_list[0][19:23]+file_list[i][15: 18]+\"유료관광지점 입장객 수_전체\")\n",
    "\n",
    "\n",
    "fold_name3 = []\n",
    "for i in range(len(file_list)):\n",
    "    fold_name3.append(file_list[0][19:23]+file_list[i][15: 18]+\"중심 관광지\")\n",
    "\n",
    "\n",
    "fold_name4 = []\n",
    "for i in range(len(file_list)):\n",
    "    fold_name4.append(file_list[0][19:23]+file_list[i][15: 18]+\"지역_맛집\")"
   ]
  },
  {
   "cell_type": "code",
   "execution_count": 5,
   "id": "df0871a2",
   "metadata": {},
   "outputs": [],
   "source": [
    "name_1 = []\n",
    "for i in range(18):\n",
    "    name_1.append([fold_name0[i],fold_name1[i],fold_name2[i] , fold_name3[i] , fold_name4[i]])"
   ]
  },
  {
   "cell_type": "code",
   "execution_count": 6,
   "id": "243cce0f",
   "metadata": {},
   "outputs": [],
   "source": [
    "num = [0, 1, 2, 3, 4]`"
   ]
  },
  {
   "cell_type": "code",
   "execution_count": 7,
   "id": "a0fd76b1",
   "metadata": {},
   "outputs": [
    {
     "ename": "IndexError",
     "evalue": "list index out of range",
     "output_type": "error",
     "traceback": [
      "\u001b[1;31m---------------------------------------------------------------------------\u001b[0m",
      "\u001b[1;31mIndexError\u001b[0m                                Traceback (most recent call last)",
      "Cell \u001b[1;32mIn[7], line 7\u001b[0m\n\u001b[0;32m      5\u001b[0m filtered_list \u001b[38;5;241m=\u001b[39m [file \u001b[38;5;28;01mfor\u001b[39;00m file \u001b[38;5;129;01min\u001b[39;00m os\u001b[38;5;241m.\u001b[39mlistdir(new_file_name) \u001b[38;5;28;01mif\u001b[39;00m \u001b[38;5;124m'\u001b[39m\u001b[38;5;124m내국인 관심 관광지\u001b[39m\u001b[38;5;124m'\u001b[39m \u001b[38;5;129;01min\u001b[39;00m file \u001b[38;5;129;01mor\u001b[39;00m \u001b[38;5;124m\"\u001b[39m\u001b[38;5;124m인기관광지_전체\u001b[39m\u001b[38;5;124m\"\u001b[39m \u001b[38;5;129;01min\u001b[39;00m file \u001b[38;5;129;01mor\u001b[39;00m \u001b[38;5;124m\"\u001b[39m\u001b[38;5;124m입장객 수_전체\u001b[39m\u001b[38;5;124m\"\u001b[39m \u001b[38;5;129;01min\u001b[39;00m file \u001b[38;5;129;01mor\u001b[39;00m \u001b[38;5;124m\"\u001b[39m\u001b[38;5;124m중심 관광지\u001b[39m\u001b[38;5;124m\"\u001b[39m \u001b[38;5;129;01min\u001b[39;00m file \u001b[38;5;129;01mor\u001b[39;00m \u001b[38;5;124m\"\u001b[39m\u001b[38;5;124m지역_맛집_전체\u001b[39m\u001b[38;5;124m\"\u001b[39m \u001b[38;5;129;01min\u001b[39;00m file]\n\u001b[0;32m      6\u001b[0m \u001b[38;5;66;03m# 기존 파일명\u001b[39;00m\n\u001b[1;32m----> 7\u001b[0m a \u001b[38;5;241m=\u001b[39m \u001b[38;5;124m\"\u001b[39m\u001b[38;5;124m./4년치 강원도 인기 관광지 관련 데이터/\u001b[39m\u001b[38;5;124m\"\u001b[39m \u001b[38;5;241m+\u001b[39m file_list[i] \u001b[38;5;241m+\u001b[39m \u001b[38;5;124m\"\u001b[39m\u001b[38;5;124m/\u001b[39m\u001b[38;5;124m\"\u001b[39m \u001b[38;5;241m+\u001b[39m \u001b[43mfiltered_list\u001b[49m\u001b[43m[\u001b[49m\u001b[43mp\u001b[49m\u001b[43m]\u001b[49m\n\u001b[0;32m      8\u001b[0m \u001b[38;5;66;03m# 바꿀 파일명 위치 저장\u001b[39;00m\n\u001b[0;32m      9\u001b[0m b \u001b[38;5;241m=\u001b[39m new_file_name \u001b[38;5;241m+\u001b[39m \u001b[38;5;124m\"\u001b[39m\u001b[38;5;124m/\u001b[39m\u001b[38;5;124m\"\u001b[39m \u001b[38;5;241m+\u001b[39m name_1[i][p] \u001b[38;5;241m+\u001b[39m \u001b[38;5;124m\"\u001b[39m\u001b[38;5;124m.csv\u001b[39m\u001b[38;5;124m\"\u001b[39m\n",
      "\u001b[1;31mIndexError\u001b[0m: list index out of range"
     ]
    }
   ],
   "source": [
    "for i in range(len(file_list)):\n",
    "    for p in num:\n",
    "        num = [0, 1, 2, 3, 4]\n",
    "        new_file_name = \"./4년치 강원도 인기 관광지 관련 데이터/\" + file_list[i] \n",
    "        filtered_list = [file for file in os.listdir(new_file_name) if '내국인 관심 관광지' in file or \"인기관광지_전체\" in file or \"입장객 수_전체\" in file or \"중심 관광지\" in file or \"지역_맛집_전체\" in file]\n",
    "        # 기존 파일명\n",
    "        a = \"./4년치 강원도 인기 관광지 관련 데이터/\" + file_list[i] + \"/\" + filtered_list[p]\n",
    "        # 바꿀 파일명 위치 저장\n",
    "        b = new_file_name + \"/\" + name_1[i][p] + \".csv\"\n",
    "        os.rename(a,b)"
   ]
  },
  {
   "cell_type": "code",
   "execution_count": 11,
   "id": "806cdbe3",
   "metadata": {},
   "outputs": [
    {
     "data": {
      "text/plain": [
       "'./4년치 강원도 인기 관광지 관련 데이터/20230615083918_강릉시_201901-201912_데이터랩_다운로드/20230615083918_주요 유료관광지점 입장객 수_전체.csv'"
      ]
     },
     "execution_count": 11,
     "metadata": {},
     "output_type": "execute_result"
    }
   ],
   "source": [
    "\"./4년치 강원도 인기 관광지 관련 데이터/\" + file_list[i] + \"/\" + filtered_list[3]"
   ]
  },
  {
   "cell_type": "code",
   "execution_count": 16,
   "id": "e69a6e10",
   "metadata": {},
   "outputs": [],
   "source": [
    "new_file_name = \"./4년치 강원도 인기 관광지 관련 데이터/\" + file_list[0] "
   ]
  },
  {
   "cell_type": "code",
   "execution_count": 17,
   "id": "0de0ef7c",
   "metadata": {},
   "outputs": [],
   "source": [
    "filtered_list = [file for file in os.listdir(new_file_name) if '내국인 관심 관광지' in file or \"인기관광지_전체\" in file or \"입장객 수_전체\" in file or \"중심 관광지\" in file or \"지역_맛집_전체\" in file]"
   ]
  },
  {
   "cell_type": "code",
   "execution_count": 18,
   "id": "d57b5653",
   "metadata": {},
   "outputs": [
    {
     "data": {
      "text/plain": [
       "['20230615083918_내국인 관심 관광지.csv',\n",
       " '20230615083918_인기관광지_전체.csv',\n",
       " '20230615083918_주요 유료관광지점 입장객 수_전체.csv',\n",
       " '20230615083918_중심 관광지.csv',\n",
       " '20230615083918_지역_맛집_전체.csv']"
      ]
     },
     "execution_count": 18,
     "metadata": {},
     "output_type": "execute_result"
    }
   ],
   "source": [
    "filtered_list"
   ]
  },
  {
   "cell_type": "code",
   "execution_count": null,
   "id": "f12e1cd2",
   "metadata": {},
   "outputs": [],
   "source": []
  },
  {
   "cell_type": "code",
   "execution_count": 9,
   "id": "a350c2e4",
   "metadata": {},
   "outputs": [
    {
     "ename": "NameError",
     "evalue": "name 'filtered_list' is not defined",
     "output_type": "error",
     "traceback": [
      "\u001b[1;31m---------------------------------------------------------------------------\u001b[0m",
      "\u001b[1;31mNameError\u001b[0m                                 Traceback (most recent call last)",
      "Cell \u001b[1;32mIn[9], line 1\u001b[0m\n\u001b[1;32m----> 1\u001b[0m \u001b[43mfiltered_list\u001b[49m[\u001b[38;5;241m0\u001b[39m]\n",
      "\u001b[1;31mNameError\u001b[0m: name 'filtered_list' is not defined"
     ]
    }
   ],
   "source": [
    "filtered_list[0]"
   ]
  },
  {
   "cell_type": "code",
   "execution_count": 14,
   "id": "7460ed13",
   "metadata": {},
   "outputs": [
    {
     "data": {
      "text/plain": [
       "'./4년치 강원도 인기 관광지 관련 데이터/20230615083918_강릉시_201901-201912_데이터랩_다운로드'"
      ]
     },
     "execution_count": 14,
     "metadata": {},
     "output_type": "execute_result"
    }
   ],
   "source": [
    "\"./4년치 강원도 인기 관광지 관련 데이터/\" + file_list[0] "
   ]
  },
  {
   "cell_type": "code",
   "execution_count": 14,
   "id": "6fc67728",
   "metadata": {},
   "outputs": [
    {
     "data": {
      "text/plain": [
       "'20230615083918_강릉시_201901-201912_데이터랩_다운로드'"
      ]
     },
     "execution_count": 14,
     "metadata": {},
     "output_type": "execute_result"
    }
   ],
   "source": [
    "file_list[0]"
   ]
  }
 ],
 "metadata": {
  "kernelspec": {
   "display_name": "busan_env_kernel",
   "language": "python",
   "name": "busan_env"
  },
  "language_info": {
   "codemirror_mode": {
    "name": "ipython",
    "version": 3
   },
   "file_extension": ".py",
   "mimetype": "text/x-python",
   "name": "python",
   "nbconvert_exporter": "python",
   "pygments_lexer": "ipython3",
   "version": "3.9.16"
  }
 },
 "nbformat": 4,
 "nbformat_minor": 5
}
