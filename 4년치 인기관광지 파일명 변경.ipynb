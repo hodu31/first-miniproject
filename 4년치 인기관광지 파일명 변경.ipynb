{
 "cells": [
  {
   "cell_type": "code",
   "execution_count": 2,
   "id": "a615fff9",
   "metadata": {},
   "outputs": [],
   "source": [
    "import os\n",
    "\n",
    "# 변경할 폴더 경로\n",
    "folder_path = \"./4년치 강원도 인기 관광지 관련 데이터\"\n",
    "\n",
    "# 폴더 내의 파일 목록을 가져옴\n",
    "file_list = os.listdir(folder_path)"
   ]
  },
  {
   "cell_type": "code",
   "execution_count": 3,
   "id": "97230459",
   "metadata": {},
   "outputs": [
    {
     "data": {
      "text/plain": [
       "['20230615091258_화천군_202201-202212_데이터랩_다운로드',\n",
       " '20230615091319_강릉시_202201-202212_데이터랩_다운로드',\n",
       " '20230615091352_고성군_202201-202212_데이터랩_다운로드',\n",
       " '20230615091407_동해시_202201-202212_데이터랩_다운로드',\n",
       " '20230615091424_삼척시_202201-202212_데이터랩_다운로드',\n",
       " '20230615091439_속초시_202201-202212_데이터랩_다운로드',\n",
       " '20230615091454_양구군_202201-202212_데이터랩_다운로드',\n",
       " '20230615091512_양양군_202201-202212_데이터랩_다운로드',\n",
       " '20230615091527_영월군_202201-202212_데이터랩_다운로드',\n",
       " '20230615091542_원주시_202201-202212_데이터랩_다운로드',\n",
       " '20230615091557_인제군_202201-202212_데이터랩_다운로드',\n",
       " '20230615091616_정선군_202201-202212_데이터랩_다운로드',\n",
       " '20230615091632_철원군_202201-202212_데이터랩_다운로드',\n",
       " '20230615091645_춘천시_202201-202212_데이터랩_다운로드',\n",
       " '20230615091701_태백시_202201-202212_데이터랩_다운로드',\n",
       " '20230615091716_평창군_202201-202212_데이터랩_다운로드',\n",
       " '20230615091730_홍천군_202201-202212_데이터랩_다운로드',\n",
       " '20230615091749_횡성군_202201-202212_데이터랩_다운로드']"
      ]
     },
     "execution_count": 3,
     "metadata": {},
     "output_type": "execute_result"
    }
   ],
   "source": [
    "file_list"
   ]
  },
  {
   "cell_type": "code",
   "execution_count": 4,
   "id": "88c60758",
   "metadata": {},
   "outputs": [
    {
     "name": "stdout",
     "output_type": "stream",
     "text": [
      "화천군\n",
      "강릉시\n",
      "고성군\n",
      "동해시\n",
      "삼척시\n",
      "속초시\n",
      "양구군\n",
      "양양군\n",
      "영월군\n",
      "원주시\n",
      "인제군\n",
      "정선군\n",
      "철원군\n",
      "춘천시\n",
      "태백시\n",
      "평창군\n",
      "홍천군\n",
      "횡성군\n"
     ]
    }
   ],
   "source": [
    "for i in range(len(file_list)):\n",
    "    print(file_list[i][15: 18])"
   ]
  },
  {
   "cell_type": "code",
   "execution_count": 5,
   "id": "b8876b78",
   "metadata": {},
   "outputs": [],
   "source": [
    "# 변경하고 싶은 이름을 리스트로 만들기\n",
    "\n",
    "\n",
    "# 내국인 관심 관광지 파일명을 (ex{2022}{강릉} {내국인 관심관광지})로 만들기 \n",
    "fold_name0 = []\n",
    "for i in range(len(file_list)):\n",
    "    fold_name0.append(file_list[0][19:23]+file_list[i][15: 18]+\"내국인 관심 관광지\")\n",
    "\n",
    "# 인기 관광지 전체 파일명을 (ex{2022}{강릉} {인기 관광지 전체})로 만들기\n",
    "fold_name1 = []\n",
    "for i in range(len(file_list)):\n",
    "    fold_name1.append(file_list[0][19:23]+file_list[i][15: 18]+\"인기 관광지 전체\")\n",
    "\n",
    "# 유료관광지점 입장객 수_전체 파일명을 (ex{2022}{강릉} {유료관광지점 입장객 수_전체})로 만들기\n",
    "fold_name2 = []\n",
    "for i in range(len(file_list)):\n",
    "    fold_name2.append(file_list[0][19:23]+file_list[i][15: 18]+\"유료관광지점 입장객 수_전체\")\n",
    "\n",
    "# 중심 관광지 파일명을 (ex{2022}{강릉} {중심 관광지})로 만들기\n",
    "fold_name3 = []\n",
    "for i in range(len(file_list)):\n",
    "    fold_name3.append(file_list[0][19:23]+file_list[i][15: 18]+\"중심 관광지\")\n",
    "\n",
    "# 지역_맛집 전체 파일명을 (ex{2022}{강릉} {지역_맛집})로 만들기\n",
    "fold_name4 = []\n",
    "for i in range(len(file_list)):\n",
    "    fold_name4.append(file_list[0][19:23]+file_list[i][15: 18]+\"지역_맛집\")"
   ]
  },
  {
   "cell_type": "code",
   "execution_count": 6,
   "id": "f1ffebdf",
   "metadata": {},
   "outputs": [
    {
     "data": {
      "text/plain": [
       "['2022화천군내국인 관심 관광지',\n",
       " '2022강릉시내국인 관심 관광지',\n",
       " '2022고성군내국인 관심 관광지',\n",
       " '2022동해시내국인 관심 관광지',\n",
       " '2022삼척시내국인 관심 관광지',\n",
       " '2022속초시내국인 관심 관광지',\n",
       " '2022양구군내국인 관심 관광지',\n",
       " '2022양양군내국인 관심 관광지',\n",
       " '2022영월군내국인 관심 관광지',\n",
       " '2022원주시내국인 관심 관광지',\n",
       " '2022인제군내국인 관심 관광지',\n",
       " '2022정선군내국인 관심 관광지',\n",
       " '2022철원군내국인 관심 관광지',\n",
       " '2022춘천시내국인 관심 관광지',\n",
       " '2022태백시내국인 관심 관광지',\n",
       " '2022평창군내국인 관심 관광지',\n",
       " '2022홍천군내국인 관심 관광지',\n",
       " '2022횡성군내국인 관심 관광지']"
      ]
     },
     "execution_count": 6,
     "metadata": {},
     "output_type": "execute_result"
    }
   ],
   "source": [
    "fold_name0"
   ]
  },
  {
   "cell_type": "code",
   "execution_count": 7,
   "id": "b233c1b2",
   "metadata": {},
   "outputs": [],
   "source": [
    "# 내국인 관심 관광지라는 이름이 있는 파일명을 위에서 만든(fold_name0) 리스트로 변경 \n",
    "for i in range(len(file_list)):\n",
    "    # 18개 지역별 안에 있는 파일 불러오기 위한 경로 저장\n",
    "    new_file_name = \"./4년치 강원도 인기 관광지 관련 데이터/\" + file_list[i] \n",
    "    # 폴더 안의 파일에 \"내국인 관심 관광지\" 가 있는 파일 만 뽑아오기 \n",
    "    filtered_list = [file for file in os.listdir(new_file_name) if \"내국인 관심 관광지\" in file]\n",
    "    # 기존 파일명 및 위치\n",
    "    a = \"./4년치 강원도 인기 관광지 관련 데이터/\" + file_list[i] + \"/\" + filtered_list[0]\n",
    "    # 바꿀 파일명 및 위치\n",
    "    b = new_file_name + \"/\" + fold_name0[i] + \".csv\"\n",
    "    # 파일명 바꾸기\n",
    "    os.rename(a,b)"
   ]
  },
  {
   "cell_type": "code",
   "execution_count": 7,
   "id": "6192e719",
   "metadata": {},
   "outputs": [],
   "source": [
    "for i in range(len(file_list)):\n",
    "    new_file_name = \"./4년치 강원도 인기 관광지 관련 데이터/\" + file_list[i] \n",
    "    filtered_list = [file for file in os.listdir(new_file_name) if \"인기관광지_전체\" in file]\n",
    "    # 기존 파일명\n",
    "    a = \"./4년치 강원도 인기 관광지 관련 데이터/\" + file_list[i] + \"/\" + filtered_list[0]\n",
    "    # 바꿀 파일명 위치 저장\n",
    "    b = new_file_name + \"/\" + fold_name1[i] + \".csv\"\n",
    "    os.rename(a,b)"
   ]
  },
  {
   "cell_type": "code",
   "execution_count": 8,
   "id": "52d18996",
   "metadata": {},
   "outputs": [],
   "source": [
    "for i in range(len(file_list)):\n",
    "    new_file_name = \"./4년치 강원도 인기 관광지 관련 데이터/\" + file_list[i] \n",
    "    filtered_list = [file for file in os.listdir(new_file_name) if \"유료관광지점 입장객 수_전체\" in file]\n",
    "    # 기존 파일명\n",
    "    a = \"./4년치 강원도 인기 관광지 관련 데이터/\" + file_list[i] + \"/\" + filtered_list[0]\n",
    "    # 바꿀 파일명 위치 저장\n",
    "    b = new_file_name + \"/\" + fold_name2[i] + \".csv\"\n",
    "    os.rename(a,b)"
   ]
  },
  {
   "cell_type": "code",
   "execution_count": 9,
   "id": "ad17db8b",
   "metadata": {},
   "outputs": [],
   "source": [
    "for i in range(len(file_list)):\n",
    "    new_file_name = \"./4년치 강원도 인기 관광지 관련 데이터/\" + file_list[i] \n",
    "    filtered_list = [file for file in os.listdir(new_file_name) if \"중심 관광지\" in file]\n",
    "    # 기존 파일명\n",
    "    a = \"./4년치 강원도 인기 관광지 관련 데이터/\" + file_list[i] + \"/\" + filtered_list[0]\n",
    "    # 바꿀 파일명 위치 저장\n",
    "    b = new_file_name + \"/\" + fold_name3[i] + \".csv\"\n",
    "    os.rename(a,b)"
   ]
  },
  {
   "cell_type": "code",
   "execution_count": 10,
   "id": "9e0f24d8",
   "metadata": {},
   "outputs": [],
   "source": [
    "for i in range(len(file_list)):\n",
    "    new_file_name = \"./4년치 강원도 인기 관광지 관련 데이터/\" + file_list[i] \n",
    "    filtered_list = [file for file in os.listdir(new_file_name) if \"지역_맛집_전체\" in file]\n",
    "    # 기존 파일명\n",
    "    a = \"./4년치 강원도 인기 관광지 관련 데이터/\" + file_list[i] + \"/\" + filtered_list[0]\n",
    "    # 바꿀 파일명 위치 저장\n",
    "    b = new_file_name + \"/\" + fold_name4[i] + \".csv\"\n",
    "    os.rename(a,b)"
   ]
  },
  {
   "cell_type": "code",
   "execution_count": null,
   "id": "88730424",
   "metadata": {},
   "outputs": [],
   "source": []
  },
  {
   "cell_type": "code",
   "execution_count": null,
   "id": "630a8d7c",
   "metadata": {},
   "outputs": [],
   "source": []
  },
  {
   "cell_type": "code",
   "execution_count": null,
   "id": "a2edb152",
   "metadata": {},
   "outputs": [],
   "source": []
  },
  {
   "cell_type": "code",
   "execution_count": null,
   "id": "a4e380c6",
   "metadata": {},
   "outputs": [],
   "source": [
    "name_1 = []\n",
    "for i in range(18):\n",
    "    name_1.append([fold_name0[i],fold_name1[i],fold_name2[i] , fold_name3[i] , fold_name4[i]])"
   ]
  },
  {
   "cell_type": "code",
   "execution_count": null,
   "id": "5bf2c1b1",
   "metadata": {},
   "outputs": [],
   "source": [
    "for i in range(len(file_list)):\n",
    "    for p in range(4):\n",
    "        new_file_name = \"./4년치 강원도 인기 관광지 관련 데이터/\" + file_list[i] \n",
    "        filtered_list = [file for file in os.listdir(new_file_name) if '내국인 관심 관광지' in file or \"중심 관광지\" in file or \"지역_맛집_전체\" in file]\n",
    "        # 기존 파일명\n",
    "        a = \"./4년치 강원도 인기 관광지 관련 데이터/\" + file_list[i] + \"/\" + filtered_list[p]\n",
    "        # 바꿀 파일명 위치 저장\n",
    "        b = new_file_name + \"/\" + name_1[i][p] + \".csv\"\n",
    "        os.rename(a,b)"
   ]
  },
  {
   "cell_type": "code",
   "execution_count": null,
   "id": "a0fd76b1",
   "metadata": {},
   "outputs": [],
   "source": [
    "for i in range(len(file_list)):\n",
    "    for p in range(4):\n",
    "        new_file_name = \"./4년치 강원도 인기 관광지 관련 데이터/\" + file_list[i] \n",
    "        filtered_list = [file for file in os.listdir(new_file_name) if '내국인 관심 관광지' in file or \"인기관광지_전체\" in file or \"입장객 수_전체\" in file or \"중심 관광지\" in file or \"지역_맛집_전체\" in file]\n",
    "        # 기존 파일명\n",
    "        a = \"./4년치 강원도 인기 관광지 관련 데이터/\" + file_list[i] + \"/\" + filtered_list[p]\n",
    "        # 바꿀 파일명 위치 저장\n",
    "        b = new_file_name + \"/\" + name_1[i][p] + \".csv\"\n",
    "        os.rename(a,b)"
   ]
  },
  {
   "cell_type": "code",
   "execution_count": null,
   "id": "ca1cc1b5",
   "metadata": {},
   "outputs": [],
   "source": []
  },
  {
   "cell_type": "code",
   "execution_count": null,
   "id": "48785ff7",
   "metadata": {},
   "outputs": [],
   "source": []
  },
  {
   "cell_type": "code",
   "execution_count": null,
   "id": "9c7a49b8",
   "metadata": {},
   "outputs": [],
   "source": []
  },
  {
   "cell_type": "code",
   "execution_count": null,
   "id": "75b793fc",
   "metadata": {},
   "outputs": [],
   "source": []
  },
  {
   "cell_type": "code",
   "execution_count": null,
   "id": "31fc377f",
   "metadata": {},
   "outputs": [],
   "source": []
  }
 ],
 "metadata": {
  "kernelspec": {
   "display_name": "busan_env_kernel",
   "language": "python",
   "name": "busan_env"
  },
  "language_info": {
   "codemirror_mode": {
    "name": "ipython",
    "version": 3
   },
   "file_extension": ".py",
   "mimetype": "text/x-python",
   "name": "python",
   "nbconvert_exporter": "python",
   "pygments_lexer": "ipython3",
   "version": "3.9.16"
  }
 },
 "nbformat": 4,
 "nbformat_minor": 5
}
