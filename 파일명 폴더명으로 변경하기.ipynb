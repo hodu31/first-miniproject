{
 "cells": [
  {
   "cell_type": "code",
   "execution_count": 2,
   "id": "a615fff9",
   "metadata": {},
   "outputs": [],
   "source": [
    "import os\n",
    "# 변경할 폴더 경로\n",
    "folder_path = \"./4년치 강원도 관광객수 관련 데이터\"\n",
    "# 폴더 내의 파일 목록을 가져옴\n",
    "file_list = os.listdir(folder_path)"
   ]
  },
  {
   "cell_type": "code",
   "execution_count": 1,
   "id": "de6e8868",
   "metadata": {},
   "outputs": [
    {
     "ename": "NameError",
     "evalue": "name 'file_list' is not defined",
     "output_type": "error",
     "traceback": [
      "\u001b[1;31m---------------------------------------------------------------------------\u001b[0m",
      "\u001b[1;31mNameError\u001b[0m                                 Traceback (most recent call last)",
      "Cell \u001b[1;32mIn[1], line 1\u001b[0m\n\u001b[1;32m----> 1\u001b[0m \u001b[43mfile_list\u001b[49m\n",
      "\u001b[1;31mNameError\u001b[0m: name 'file_list' is not defined"
     ]
    }
   ],
   "source": [
    "file_list"
   ]
  },
  {
   "cell_type": "code",
   "execution_count": 2,
   "id": "88c60758",
   "metadata": {},
   "outputs": [
    {
     "name": "stdout",
     "output_type": "stream",
     "text": [
      "강릉시\n",
      "고성군\n",
      "동해시\n",
      "삼척시\n",
      "속초시\n",
      "양구군\n",
      "양양군\n",
      "영월군\n",
      "원주시\n",
      "인제군\n",
      "정선군\n",
      "철원군\n",
      "춘천시\n",
      "태백시\n",
      "평창군\n",
      "홍천군\n",
      "횡성군\n",
      "화천군\n"
     ]
    }
   ],
   "source": [
    "for i in range(len(file_list)):\n",
    "    print(file_list[i][15: 18])"
   ]
  },
  {
   "cell_type": "code",
   "execution_count": 5,
   "id": "383095c6",
   "metadata": {},
   "outputs": [],
   "source": [
    "category = os.listdir(new_file_name)"
   ]
  },
  {
   "cell_type": "code",
   "execution_count": 6,
   "id": "b8876b78",
   "metadata": {},
   "outputs": [],
   "source": [
    "# 변경하고 싶은 이름을 폴더 내에 있는 폴더명을 불러온뒤 내가 원하는 이름으로 바꿈\n",
    "fold_name0 = []\n",
    "for i in range(len(file_list)):\n",
    "    fold_name0.append(file_list[0][19:23]+file_list[i][15: 18]+\"거리별 방문자 분포\")\n",
    "\n",
    "\n",
    "fold_name1 = []\n",
    "for i in range(len(file_list)):\n",
    "    fold_name1.append(file_list[0][19:23]+file_list[i][15: 18]+\"방문자 거주지 분포\")\n",
    "\n",
    "\n",
    "fold_name2 = []\n",
    "for i in range(len(file_list)):\n",
    "    fold_name2.append(file_list[0][19:23]+file_list[i][15: 18]+\"방문자 성연령별 분포\")\n",
    "\n",
    "\n",
    "fold_name3 = []\n",
    "for i in range(len(file_list)):\n",
    "    fold_name3.append(file_list[0][19:23]+file_list[i][15: 18]+\"방문자 수 추이\")\n",
    "\n",
    "fold_name4 = []\n",
    "for i in range(len(file_list)):\n",
    "    fold_name4.append(file_list[0][19:23]+file_list[i][15: 18]+\"방문자 유출지 분포\")\n",
    "\n",
    "\n",
    "fold_name5 = []\n",
    "for i in range(len(file_list)):\n",
    "    fold_name5.append(file_list[0][19:23]+file_list[i][15: 18]+\"유입 유출\")\n"
   ]
  },
  {
   "cell_type": "code",
   "execution_count": 7,
   "id": "7a202b75",
   "metadata": {},
   "outputs": [],
   "source": [
    "name_1 =[]"
   ]
  },
  {
   "cell_type": "code",
   "execution_count": 23,
   "id": "25e299a2",
   "metadata": {},
   "outputs": [],
   "source": [
    "\n",
    "for i in range(18):\n",
    "    name_1.append([fold_name0[i],fold_name1[i],fold_name2[i] , fold_name3[i] , fold_name4[i] , fold_name5[i]])"
   ]
  },
  {
   "cell_type": "code",
   "execution_count": 24,
   "id": "fb20cfcb",
   "metadata": {},
   "outputs": [
    {
     "data": {
      "text/plain": [
       "'2023강릉시방문자 유출지 분포'"
      ]
     },
     "execution_count": 24,
     "metadata": {},
     "output_type": "execute_result"
    }
   ],
   "source": [
    "name_1[0][4]"
   ]
  },
  {
   "cell_type": "code",
   "execution_count": 25,
   "id": "7cf194fc",
   "metadata": {},
   "outputs": [
    {
     "data": {
      "text/plain": [
       "'20230614141147_강릉시_202301-202304_데이터랩_다운로드'"
      ]
     },
     "execution_count": 25,
     "metadata": {},
     "output_type": "execute_result"
    }
   ],
   "source": [
    " file_list[0] "
   ]
  },
  {
   "cell_type": "code",
   "execution_count": 26,
   "id": "4de61189",
   "metadata": {},
   "outputs": [
    {
     "data": {
      "text/plain": [
       "'./4년치 강원도 관광객수 관련 데이터/20230614141147_강릉시_202301-202304_데이터랩_다운로드/20230614141147_방문자 유출지 분포.csv'"
      ]
     },
     "execution_count": 26,
     "metadata": {},
     "output_type": "execute_result"
    }
   ],
   "source": [
    "a = \"./4년치 강원도 관광객수 관련 데이터/\" + file_list[0] +\"/\"+ os.listdir(new_file_name)[4]\n",
    "a"
   ]
  },
  {
   "cell_type": "code",
   "execution_count": 27,
   "id": "120fea6a",
   "metadata": {},
   "outputs": [
    {
     "data": {
      "text/plain": [
       "'./4년치 강원도 관광객수 관련 데이터/20230614141147_강릉시_202301-202304_데이터랩_다운로드/20230614141147_방문자 거주지 분포.csv'"
      ]
     },
     "execution_count": 27,
     "metadata": {},
     "output_type": "execute_result"
    }
   ],
   "source": [
    "new_file_name = \"./4년치 강원도 관광객수 관련 데이터/\" + file_list[0] \n",
    "new10 = \"./4년치 강원도 관광객수 관련 데이터/\" + file_list[0]+ \"/\" + os.listdir(new_file_name)[1]\n",
    "new10"
   ]
  },
  {
   "cell_type": "code",
   "execution_count": 29,
   "id": "9eb26bd6",
   "metadata": {},
   "outputs": [
    {
     "ename": "FileExistsError",
     "evalue": "[WinError 183] 파일이 이미 있으므로 만들 수 없습니다: './4년치 강원도 관광객수 관련 데이터/20230614141147_강릉시_202301-202304_데이터랩_다운로드/2023강릉시방문자 거주지 분포.csv' -> './4년치 강원도 관광객수 관련 데이터/20230614141147_강릉시_202301-202304_데이터랩_다운로드/2023강릉시방문자 수 추이.csv'",
     "output_type": "error",
     "traceback": [
      "\u001b[1;31m---------------------------------------------------------------------------\u001b[0m",
      "\u001b[1;31mFileExistsError\u001b[0m                           Traceback (most recent call last)",
      "Cell \u001b[1;32mIn[29], line 8\u001b[0m\n\u001b[0;32m      6\u001b[0m \u001b[38;5;66;03m# 바꿀 파일명 위치 저장\u001b[39;00m\n\u001b[0;32m      7\u001b[0m b \u001b[38;5;241m=\u001b[39m new_file_name \u001b[38;5;241m+\u001b[39m \u001b[38;5;124m\"\u001b[39m\u001b[38;5;124m/\u001b[39m\u001b[38;5;124m\"\u001b[39m \u001b[38;5;241m+\u001b[39m name_1[i][p] \u001b[38;5;241m+\u001b[39m \u001b[38;5;124m\"\u001b[39m\u001b[38;5;124m.csv\u001b[39m\u001b[38;5;124m\"\u001b[39m\n\u001b[1;32m----> 8\u001b[0m \u001b[43mos\u001b[49m\u001b[38;5;241;43m.\u001b[39;49m\u001b[43mrename\u001b[49m\u001b[43m(\u001b[49m\u001b[43ma\u001b[49m\u001b[43m,\u001b[49m\u001b[43mb\u001b[49m\u001b[43m)\u001b[49m\n",
      "\u001b[1;31mFileExistsError\u001b[0m: [WinError 183] 파일이 이미 있으므로 만들 수 없습니다: './4년치 강원도 관광객수 관련 데이터/20230614141147_강릉시_202301-202304_데이터랩_다운로드/2023강릉시방문자 거주지 분포.csv' -> './4년치 강원도 관광객수 관련 데이터/20230614141147_강릉시_202301-202304_데이터랩_다운로드/2023강릉시방문자 수 추이.csv'"
     ]
    }
   ],
   "source": [
    "for i in range(len(file_list)):\n",
    "    for p in range(3,6,1):\n",
    "        new_file_name = \"./4년치 강원도 관광객수 관련 데이터/\" + file_list[i] \n",
    "        # 기존 파일명\n",
    "        a = \"./4년치 강원도 관광객수 관련 데이터/\" + file_list[i] +\"/\"+ os.listdir(new_file_name)[p]\n",
    "        # 바꿀 파일명 위치 저장\n",
    "        b = new_file_name + \"/\" + name_1[i][p] + \".csv\"\n",
    "        os.rename(a,b)"
   ]
  },
  {
   "cell_type": "code",
   "execution_count": null,
   "id": "ddd41c08",
   "metadata": {},
   "outputs": [],
   "source": []
  },
  {
   "cell_type": "code",
   "execution_count": null,
   "id": "dbe4cb4a",
   "metadata": {},
   "outputs": [],
   "source": []
  },
  {
   "cell_type": "code",
   "execution_count": null,
   "id": "a0fd76b1",
   "metadata": {},
   "outputs": [],
   "source": []
  },
  {
   "cell_type": "code",
   "execution_count": null,
   "id": "7460ed13",
   "metadata": {},
   "outputs": [],
   "source": []
  },
  {
   "cell_type": "code",
   "execution_count": null,
   "id": "6fc67728",
   "metadata": {},
   "outputs": [],
   "source": []
  }
 ],
 "metadata": {
  "kernelspec": {
   "display_name": "busan_env_kernel",
   "language": "python",
   "name": "busan_env"
  },
  "language_info": {
   "codemirror_mode": {
    "name": "ipython",
    "version": 3
   },
   "file_extension": ".py",
   "mimetype": "text/x-python",
   "name": "python",
   "nbconvert_exporter": "python",
   "pygments_lexer": "ipython3",
   "version": "3.9.16"
  }
 },
 "nbformat": 4,
 "nbformat_minor": 5
}
